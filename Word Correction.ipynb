{
 "cells": [
  {
   "cell_type": "markdown",
   "metadata": {},
   "source": [
    "# spell correction using letter n-grams"
   ]
  },
  {
   "cell_type": "code",
   "execution_count": 100,
   "metadata": {},
   "outputs": [],
   "source": [
    "#Calculate Jaccard Similarity\n",
    "def Jaccard_Similarity (set_A,set_B):\n",
    "    inter_len = len(set_A&set_B)\n",
    "    union_len = len(set_A|set_B)\n",
    "    jd = inter_len/union_len\n",
    "    return jd"
   ]
  },
  {
   "cell_type": "code",
   "execution_count": 101,
   "metadata": {},
   "outputs": [],
   "source": [
    "#Split word into n-gram subsets\n",
    "def wordset(word,n_gram):\n",
    "    set_word = []\n",
    "    for i in range(len(word)-n_gram+1):\n",
    "        set_word.append(word[i:i+n_gram])    \n",
    "    return set_word"
   ]
  },
  {
   "cell_type": "code",
   "execution_count": 102,
   "metadata": {},
   "outputs": [],
   "source": [
    "#Calculate similiraty of input word to word in dictionary \n",
    "def word_dis (word,dicset,n_gram):\n",
    "    word_set = wordset(word,n_gram)\n",
    "    dis = Jaccard_Similarity(set(word_set),set(dicset))\n",
    "    return dis"
   ]
  },
  {
   "cell_type": "code",
   "execution_count": 118,
   "metadata": {},
   "outputs": [],
   "source": [
    "# Search the most similar word in dictionary toward input word\n",
    "def similarword_search (word,dictionary,n_gram):\n",
    "    similar = 0\n",
    "    dic = {}\n",
    "    #Split each dictionary words into subsets\n",
    "    for dicword in dictionary:  \n",
    "        dic[dicword]=wordset(dicword,n_gram)\n",
    "    for dicword,dicset in dic.items():\n",
    "        dif = word_dis(word,dicset,n_gram)\n",
    "        if dif>similar:\n",
    "            similarword = dicword\n",
    "            similar = dif\n",
    "    return similarword"
   ]
  },
  {
   "cell_type": "code",
   "execution_count": 104,
   "metadata": {},
   "outputs": [],
   "source": [
    "# Search the top 10 similar words in dictionary toward input word\n",
    "def similar_search (word,dictionary,n_gram):\n",
    "    similardic = {}\n",
    "    similarlist = []\n",
    "    dic = {}\n",
    "    for dicword in dictionary:\n",
    "        dic[dicword]=wordset(dicword,n_gram)\n",
    "    for dicword,dicset in dic.items():\n",
    "        similar = word_dis(word,dicset,n_gram)\n",
    "        similardic[dicword] = similar\n",
    "    for similarword, dif in sorted(similardic.items(), key = lambda x: x[1], reverse = True)[:10]:\n",
    "        similarlist.append(similarword)\n",
    "    return similarlist"
   ]
  },
  {
   "cell_type": "code",
   "execution_count": 105,
   "metadata": {},
   "outputs": [],
   "source": [
    "a_list_filepath = './enwiktionary.a.list'\n",
    "a_list = []\n",
    "with open(a_list_filepath) as f:\n",
    "    for line in f:\n",
    "        a_list.append(line.strip())"
   ]
  },
  {
   "cell_type": "code",
   "execution_count": 106,
   "metadata": {},
   "outputs": [
    {
     "data": {
      "text/plain": [
       "305868"
      ]
     },
     "execution_count": 106,
     "metadata": {},
     "output_type": "execute_result"
    }
   ],
   "source": [
    "len(a_list)"
   ]
  },
  {
   "cell_type": "code",
   "execution_count": 107,
   "metadata": {
    "scrolled": true
   },
   "outputs": [],
   "source": [
    "dic = {}\n",
    "for dicword in a_list:\n",
    "    dic[dicword]=wordset(dicword,3)"
   ]
  },
  {
   "cell_type": "code",
   "execution_count": 108,
   "metadata": {},
   "outputs": [],
   "source": [
    "words = [\"abreviation\",\"abstrictiveness\",\"adjectival\",\"accanthopterigious\",\"artifitial inteligwnse\",\"agglumetation\"]"
   ]
  },
  {
   "cell_type": "code",
   "execution_count": 123,
   "metadata": {},
   "outputs": [
    {
     "name": "stdout",
     "output_type": "stream",
     "text": [
      "abreviation  :  ['abbreviation', 'abbreviations', 'abbreviationi', 'abbreviatione', 'adbreviationi', 'adbreviatione', 'abbreviatio', 'adbreviatio', 'abreviativo', 'abreviativa']\n",
      "**********************\n",
      "abstrictiveness  :  ['abstractiveness', 'activeness', 'addictiveness', 'astrictive', 'abstriction', 'abstricting', 'astrictives', 'abstrict', 'abstrictions', 'activenesses']\n",
      "**********************\n",
      "adjectival  :  ['adjectival', 'adjectivals', 'adjectivale', 'adjectiva', 'adjectivally', 'adjectivales', 'adjectivas', 'adjectivae', 'adjectivam', 'adjectiv']\n",
      "**********************\n",
      "accanthopterigious  :  ['acanthopterygious', 'acanthopteri', 'acanthopterous', 'acanthopteran', 'acanthopterans', 'acanthopterygii', 'acanthopterygian', 'acanthopt', 'acanthopterygians', 'acanthopodious']\n",
      "**********************\n",
      "artifitial inteligwnse  :  ['artificial intelligence', 'artificial intelligences', 'artificial insemination', 'artificial art', 'artificial anus', 'artificial life', 'artificialmente', 'artificialities', 'artificial turf', 'artificial']\n",
      "**********************\n",
      "agglumetation  :  ['agglutination', 'arietation', 'agglutinations', 'arietationi', 'arietatione', 'arietations', 'arietationes', 'arietationis', 'arietationum', 'arietationem']\n",
      "**********************\n"
     ]
    }
   ],
   "source": [
    "n_gram = 3\n",
    "for word in words:\n",
    "    print (\"{}  :  {}\".format(word,similar_search (word,a_list,n_gram)))\n",
    "    print (\"**********************\")"
   ]
  },
  {
   "cell_type": "code",
   "execution_count": 124,
   "metadata": {},
   "outputs": [
    {
     "name": "stdout",
     "output_type": "stream",
     "text": [
      "abreviation  :  ['abbreviation', 'abbreviations', 'abbreviationi', 'abbreviatione', 'abbreviatio', 'abbreviationis', 'abbreviationem', 'abbreviationes', 'abbreviationum', 'abbreviati']\n",
      "**********************\n",
      "abstrictiveness  :  ['abstractiveness', 'astrictives', 'activeness', 'abstivesen', 'astrictive', 'abstivesse', 'abstivesses', 'addictiveness', 'absorptiveness', 'abstersiveness']\n",
      "**********************\n",
      "adjectival  :  ['adjectival', 'adjectivals', 'adjectivale', 'adjectiva', 'adjectivally', 'adjectivales', 'adjectivas', 'adjectivae', 'adjectivam', 'adjectiv']\n",
      "**********************\n",
      "accanthopterigious  :  ['acanthopterygious', 'acanthopterous', 'acanthopteri', 'acanthopteran', 'acanthopterygian', 'acanthopterygii', 'acanthopterans', 'acanthopterygians', 'acanthopodious', 'acanthopt']\n",
      "**********************\n",
      "artifitial inteligwnse  :  ['artificial intelligence', 'artificial intelligences', 'artificial insemination', 'artificiality', 'artificial life', 'artificialities', 'artificiali', 'artigliante', 'artificialia', 'artificialmente']\n",
      "**********************\n",
      "agglumetation  :  ['agglutination', 'agglomeration', 'agglutinations', 'agglomerations', 'agglutinatarum', 'agglutinata', 'agitationum', 'agglomerationen', 'autoagglutination', 'agglutinaatio']\n",
      "**********************\n"
     ]
    }
   ],
   "source": [
    "n_gram = 2\n",
    "for word in words:\n",
    "    print (\"{}  :  {}\".format(word,similar_search (word,a_list,n_gram)))\n",
    "    print (\"**********************\")"
   ]
  },
  {
   "cell_type": "code",
   "execution_count": 125,
   "metadata": {},
   "outputs": [
    {
     "name": "stdout",
     "output_type": "stream",
     "text": [
      "abreviation  :  ['abbreviation', 'abbreviations', 'abbreviationi', 'abbreviatione', 'adbreviationi', 'adbreviatione', 'abbreviatio', 'adbreviatio', 'abreviativo', 'abreviativa']\n",
      "**********************\n",
      "abstrictiveness  :  ['abstractiveness', 'addictiveness', 'activeness', 'astrictive', 'abstriction', 'abstricting', 'astrictives', 'abstrict', 'abstrictions', 'activenesses']\n",
      "**********************\n",
      "adjectival  :  ['adjectival', 'adjectivals', 'adjectivale', 'adjectiva', 'adjectivally', 'adjectivales', 'adjectivas', 'adjectivae', 'adjectivam', 'adjectiv']\n",
      "**********************\n",
      "accanthopterigious  :  ['acanthopteri', 'acanthopterygious', 'acanthopteran', 'acanthopterous', 'acanthopterans', 'acanthopterygii', 'acanthopterygian', 'acanthopterygians', 'acanthopt', 'acanthopts']\n",
      "**********************\n",
      "artifitial inteligwnse  :  ['artificial intelligence', 'artificial intelligences', 'artificial insemination', 'artificial art', 'artificial anus', 'artificial life', 'artificial turf', 'artifiko', 'artifice', 'artifici']\n",
      "**********************\n",
      "agglumetation  :  ['arietation', 'arietationi', 'arietatione', 'arietations', 'arietationes', 'arietationis', 'arietationum', 'arietationem', 'agglutination', 'agglutinations']\n",
      "**********************\n"
     ]
    }
   ],
   "source": [
    "n_gram = 4\n",
    "for word in words:\n",
    "    print (\"{}  :  {}\".format(word,similar_search (word,a_list,n_gram)))\n",
    "    print (\"**********************\")"
   ]
  },
  {
   "cell_type": "code",
   "execution_count": 120,
   "metadata": {},
   "outputs": [
    {
     "name": "stdout",
     "output_type": "stream",
     "text": [
      "abreviation  :  ['abbreviation', 'abbreviations', 'abbreviationi', 'abbreviatione', 'adbreviationi', 'adbreviatione', 'abbreviatio', 'adbreviatio', 'abreviativo', 'abreviativa']\n",
      "**********************\n",
      "abstrictiveness  :  ['addictiveness', 'activeness', 'astrictive', 'abstriction', 'abstricting', 'astrictives', 'abstractiveness', 'abstrict', 'abstrictions', 'activenesses']\n",
      "**********************\n",
      "adjectival  :  ['adjectival', 'adjectivals', 'adjectivale', 'adjectiva', 'adjectivally', 'adjectivales', 'adjectivas', 'adjectivae', 'adjectivam', 'adjectiv']\n",
      "**********************\n",
      "accanthopterigious  :  ['acanthopteri', 'acanthopteran', 'acanthopterygious', 'acanthopterous', 'acanthopterans', 'acanthopterygii', 'acanthopterygian', 'acanthopterygians', 'acanthopt', 'acanthopts']\n",
      "**********************\n",
      "artifitial inteligwnse  :  ['artificial intelligence', 'artificial intelligences', 'artificial insemination', 'artifiko', 'artifice', 'artifici', 'artifizi', 'artificer', 'artifical', 'artifices']\n",
      "**********************\n",
      "agglumetation  :  ['arietation', 'arietationi', 'arietatione', 'arietations', 'arietationes', 'arietationis', 'arietationum', 'arietationem', 'arietationibus', 'agitation']\n",
      "**********************\n"
     ]
    }
   ],
   "source": [
    "n_gram = 5\n",
    "for word in words:\n",
    "    print (\"{}  :  {}\".format(word,similar_search (word,a_list,n_gram)))\n",
    "    print (\"**********************\")"
   ]
  },
  {
   "cell_type": "code",
   "execution_count": 122,
   "metadata": {
    "scrolled": true
   },
   "outputs": [
    {
     "name": "stdout",
     "output_type": "stream",
     "text": [
      "When n-gram is 2*******************\n",
      "abreviation  :  abbreviation\n",
      "abstrictiveness  :  abstractiveness\n",
      "adjectival  :  adjectival\n",
      "accanthopterigious  :  acanthopterygious\n",
      "artifitial inteligwnse  :  artificial intelligence\n",
      "agglumetation  :  agglutination\n",
      "\n",
      "\n",
      "When n-gram is 3*******************\n",
      "abreviation  :  abbreviation\n",
      "abstrictiveness  :  abstractiveness\n",
      "adjectival  :  adjectival\n",
      "accanthopterigious  :  acanthopterygious\n",
      "artifitial inteligwnse  :  artificial intelligence\n",
      "agglumetation  :  agglutination\n",
      "\n",
      "\n",
      "When n-gram is 4*******************\n",
      "abreviation  :  abbreviation\n",
      "abstrictiveness  :  abstractiveness\n",
      "adjectival  :  adjectival\n",
      "accanthopterigious  :  acanthopteri\n",
      "artifitial inteligwnse  :  artificial intelligence\n",
      "agglumetation  :  arietation\n",
      "\n",
      "\n",
      "When n-gram is 5*******************\n",
      "abreviation  :  abbreviation\n",
      "abstrictiveness  :  addictiveness\n",
      "adjectival  :  adjectival\n",
      "accanthopterigious  :  acanthopteri\n",
      "artifitial inteligwnse  :  artificial intelligence\n",
      "agglumetation  :  arietation\n",
      "\n",
      "\n"
     ]
    }
   ],
   "source": [
    "for n_gram in range (2,6):\n",
    "    print (\"When n-gram is {}*******************\".format(n_gram))\n",
    "    for word in words:\n",
    "        print (\"{}  :  {}\".format(word,similarword_search (word,a_list,n_gram)))\n",
    "    print (\"\\n\")"
   ]
  },
  {
   "cell_type": "code",
   "execution_count": null,
   "metadata": {},
   "outputs": [],
   "source": []
  }
 ],
 "metadata": {
  "kernelspec": {
   "display_name": "Python 3",
   "language": "python",
   "name": "python3"
  },
  "language_info": {
   "codemirror_mode": {
    "name": "ipython",
    "version": 3
   },
   "file_extension": ".py",
   "mimetype": "text/x-python",
   "name": "python",
   "nbconvert_exporter": "python",
   "pygments_lexer": "ipython3",
   "version": "3.8.8"
  }
 },
 "nbformat": 4,
 "nbformat_minor": 2
}
